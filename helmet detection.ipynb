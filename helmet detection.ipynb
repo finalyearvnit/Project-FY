{
 "cells": [
  {
   "cell_type": "markdown",
   "metadata": {},
   "source": [
    "# Training Model"
   ]
  },
  {
   "cell_type": "code",
   "execution_count": 2,
   "metadata": {},
   "outputs": [
    {
     "name": "stdout",
     "output_type": "stream",
     "text": [
      "Found 3199 images belonging to 2 classes.\n",
      "Found 219 images belonging to 2 classes.\n"
     ]
    }
   ],
   "source": [
    "from keras.preprocessing.image import ImageDataGenerator\n",
    "from keras.models import Sequential\n",
    "from keras.layers import Conv2D, MaxPooling2D\n",
    "from keras.layers import Activation, Dropout, Flatten, Dense\n",
    "from keras import backend as K\n",
    "from keras.callbacks import EarlyStopping,ModelCheckpoint,ReduceLROnPlateau\n",
    "from keras.layers.normalization import BatchNormalization\n",
    "\n",
    "model = Sequential()\n",
    "model.add(Conv2D(32, (3, 3), input_shape=(82, 82, 3)))\n",
    "model.add(Activation('relu'))\n",
    "model.add(MaxPooling2D(pool_size=(2, 2)))\n",
    "\n",
    "model.add(Conv2D(32, (3, 3)))\n",
    "model.add(Activation('relu'))\n",
    "model.add(MaxPooling2D(pool_size=(2, 2)))\n",
    "\n",
    "model.add(Conv2D(64, (3, 3)))\n",
    "model.add(Activation('relu'))\n",
    "model.add(MaxPooling2D(pool_size=(2, 2)))\n",
    "\n",
    "model.add(Flatten())  # this converts our 3D feature maps to 1D feature vectors\n",
    "model.add(Dense(64))\n",
    "model.add(Activation('relu'))\n",
    "model.add(Dropout(0.5))\n",
    "model.add(Dense(1))\n",
    "model.add(Activation('sigmoid'))\n",
    "# COMPILE\n",
    "model.compile(loss='binary_crossentropy',\n",
    "              optimizer='adam',\n",
    "              metrics=['accuracy'])\n",
    "\n",
    "train_data_dir = 'helmet_detection/train'\n",
    "validation_data_dir = 'helmet_detection/validations'\n",
    "nb_train_samples = 3202\n",
    "nb_validation_samples = 220\n",
    "epochs = 50\n",
    "batch_size = 12\n",
    "\n",
    "train_datagen = ImageDataGenerator(\n",
    "    horizontal_flip=True)\n",
    "\n",
    "val_datagen = ImageDataGenerator(\n",
    "    horizontal_flip=True)\n",
    "\n",
    "train_generator = train_datagen.flow_from_directory(\n",
    "        train_data_dir,  # this is the target directory\n",
    "        target_size=(82, 82),  # all images will be resized to 150x150\n",
    "        batch_size=batch_size,\n",
    "        class_mode='binary')  # since we use binary_crossentropy loss, we need binary labels\n",
    "\n",
    "# this is a similar generator, for validation data\n",
    "validation_generator = val_datagen.flow_from_directory(\n",
    "        validation_data_dir,\n",
    "        target_size=(82, 82),\n",
    "        batch_size=batch_size,\n",
    "        class_mode='binary')"
   ]
  },
  {
   "cell_type": "code",
   "execution_count": 3,
   "metadata": {},
   "outputs": [
    {
     "name": "stdout",
     "output_type": "stream",
     "text": [
      "WARNING:tensorflow:`epsilon` argument is deprecated and will be removed, use `min_delta` instead.\n",
      "[INFO] training network...\n"
     ]
    },
    {
     "name": "stderr",
     "output_type": "stream",
     "text": [
      "C:\\Users\\adity\\anaconda3\\lib\\site-packages\\tensorflow\\python\\keras\\engine\\training.py:1844: UserWarning: `Model.fit_generator` is deprecated and will be removed in a future version. Please use `Model.fit`, which supports generators.\n",
      "  warnings.warn('`Model.fit_generator` is deprecated and '\n"
     ]
    },
    {
     "name": "stdout",
     "output_type": "stream",
     "text": [
      "Epoch 1/50\n",
      "266/266 [==============================] - 26s 95ms/step - loss: 1.9503 - accuracy: 0.7468 - val_loss: 0.3803 - val_accuracy: 0.8287\n",
      "Epoch 2/50\n",
      "266/266 [==============================] - 10s 39ms/step - loss: 0.3784 - accuracy: 0.8489 - val_loss: 0.3817 - val_accuracy: 0.8704\n",
      "Epoch 3/50\n",
      "266/266 [==============================] - 10s 39ms/step - loss: 0.3938 - accuracy: 0.8398 - val_loss: 0.2591 - val_accuracy: 0.9120\n",
      "Epoch 4/50\n",
      "266/266 [==============================] - 11s 39ms/step - loss: 0.3121 - accuracy: 0.8837 - val_loss: 0.2821 - val_accuracy: 0.9028\n",
      "Epoch 5/50\n",
      "266/266 [==============================] - 11s 40ms/step - loss: 0.2793 - accuracy: 0.8910 - val_loss: 0.3959 - val_accuracy: 0.8472\n",
      "Epoch 6/50\n",
      "266/266 [==============================] - 11s 40ms/step - loss: 0.2838 - accuracy: 0.8954 - val_loss: 0.3062 - val_accuracy: 0.8657\n",
      "Epoch 7/50\n",
      "266/266 [==============================] - 11s 40ms/step - loss: 0.2762 - accuracy: 0.8984 - val_loss: 0.2506 - val_accuracy: 0.8981\n",
      "Epoch 8/50\n",
      "266/266 [==============================] - 11s 40ms/step - loss: 0.2854 - accuracy: 0.8913 - val_loss: 0.3322 - val_accuracy: 0.8796\n",
      "Epoch 9/50\n",
      "266/266 [==============================] - 11s 40ms/step - loss: 0.2697 - accuracy: 0.8866 - val_loss: 0.2868 - val_accuracy: 0.9352\n",
      "Epoch 10/50\n",
      "266/266 [==============================] - 11s 40ms/step - loss: 0.2475 - accuracy: 0.9265 - val_loss: 0.3160 - val_accuracy: 0.8796\n",
      "Epoch 11/50\n",
      "266/266 [==============================] - 11s 39ms/step - loss: 0.2608 - accuracy: 0.9029 - val_loss: 0.3182 - val_accuracy: 0.8750\n",
      "Epoch 12/50\n",
      "266/266 [==============================] - 11s 39ms/step - loss: 0.2515 - accuracy: 0.8992 - val_loss: 0.2690 - val_accuracy: 0.9167\n",
      "\n",
      "Epoch 00012: ReduceLROnPlateau reducing learning rate to 0.00010000000474974513.\n",
      "Epoch 13/50\n",
      "266/266 [==============================] - 11s 39ms/step - loss: 0.2475 - accuracy: 0.9091 - val_loss: 0.2288 - val_accuracy: 0.9213\n",
      "Epoch 14/50\n",
      "266/266 [==============================] - 11s 40ms/step - loss: 0.1690 - accuracy: 0.9317 - val_loss: 0.2045 - val_accuracy: 0.9306\n",
      "Epoch 15/50\n",
      "266/266 [==============================] - 11s 40ms/step - loss: 0.1714 - accuracy: 0.9416 - val_loss: 0.1962 - val_accuracy: 0.9352\n",
      "Epoch 16/50\n",
      "266/266 [==============================] - 11s 40ms/step - loss: 0.1342 - accuracy: 0.9454 - val_loss: 0.1830 - val_accuracy: 0.9398\n",
      "Epoch 17/50\n",
      "266/266 [==============================] - 11s 40ms/step - loss: 0.1500 - accuracy: 0.9500 - val_loss: 0.2338 - val_accuracy: 0.9167\n",
      "Epoch 18/50\n",
      "266/266 [==============================] - 11s 40ms/step - loss: 0.1472 - accuracy: 0.9441 - val_loss: 0.2003 - val_accuracy: 0.9306\n",
      "Epoch 19/50\n",
      "266/266 [==============================] - 11s 39ms/step - loss: 0.1336 - accuracy: 0.9441 - val_loss: 0.2061 - val_accuracy: 0.9398\n",
      "Epoch 20/50\n",
      "266/266 [==============================] - 11s 40ms/step - loss: 0.1341 - accuracy: 0.9475 - val_loss: 0.1970 - val_accuracy: 0.9352\n",
      "Epoch 21/50\n",
      "266/266 [==============================] - 11s 41ms/step - loss: 0.1286 - accuracy: 0.9524 - val_loss: 0.2071 - val_accuracy: 0.9213\n",
      "\n",
      "Epoch 00021: ReduceLROnPlateau reducing learning rate to 1.0000000474974514e-05.\n",
      "Epoch 22/50\n",
      "266/266 [==============================] - 11s 41ms/step - loss: 0.1318 - accuracy: 0.9474 - val_loss: 0.2010 - val_accuracy: 0.9352\n",
      "Epoch 23/50\n",
      "266/266 [==============================] - 11s 40ms/step - loss: 0.1252 - accuracy: 0.9562 - val_loss: 0.1948 - val_accuracy: 0.9398\n",
      "Epoch 24/50\n",
      "266/266 [==============================] - 10s 39ms/step - loss: 0.1257 - accuracy: 0.9498 - val_loss: 0.1899 - val_accuracy: 0.9398\n",
      "Epoch 25/50\n",
      "266/266 [==============================] - 10s 39ms/step - loss: 0.1343 - accuracy: 0.9433 - val_loss: 0.1988 - val_accuracy: 0.9259\n",
      "Epoch 26/50\n",
      "266/266 [==============================] - 11s 40ms/step - loss: 0.1193 - accuracy: 0.9510 - val_loss: 0.1998 - val_accuracy: 0.9444\n",
      "\n",
      "Epoch 00026: ReduceLROnPlateau reducing learning rate to 1.0000000656873453e-06.\n",
      "Epoch 27/50\n",
      "266/266 [==============================] - 10s 39ms/step - loss: 0.1080 - accuracy: 0.9561 - val_loss: 0.2021 - val_accuracy: 0.9398\n",
      "Epoch 28/50\n",
      "266/266 [==============================] - 10s 39ms/step - loss: 0.1063 - accuracy: 0.9665 - val_loss: 0.2026 - val_accuracy: 0.9352\n",
      "Epoch 29/50\n",
      "266/266 [==============================] - 10s 39ms/step - loss: 0.1295 - accuracy: 0.9514 - val_loss: 0.2035 - val_accuracy: 0.9352\n",
      "Epoch 30/50\n",
      "266/266 [==============================] - 11s 39ms/step - loss: 0.0996 - accuracy: 0.9568 - val_loss: 0.2030 - val_accuracy: 0.9306\n",
      "Epoch 31/50\n",
      "266/266 [==============================] - 10s 39ms/step - loss: 0.1089 - accuracy: 0.9538 - val_loss: 0.2030 - val_accuracy: 0.9398\n",
      "\n",
      "Epoch 00031: ReduceLROnPlateau reducing learning rate to 1.0000001111620805e-07.\n",
      "Epoch 32/50\n",
      "266/266 [==============================] - 10s 39ms/step - loss: 0.1217 - accuracy: 0.9477 - val_loss: 0.2030 - val_accuracy: 0.9398\n",
      "Epoch 33/50\n",
      "266/266 [==============================] - 10s 38ms/step - loss: 0.1037 - accuracy: 0.9585 - val_loss: 0.1934 - val_accuracy: 0.9398\n",
      "Epoch 34/50\n",
      "266/266 [==============================] - 10s 38ms/step - loss: 0.1205 - accuracy: 0.9463 - val_loss: 0.2034 - val_accuracy: 0.9398\n",
      "Epoch 35/50\n",
      "266/266 [==============================] - 10s 38ms/step - loss: 0.1214 - accuracy: 0.9500 - val_loss: 0.1947 - val_accuracy: 0.9398\n",
      "Epoch 36/50\n",
      "266/266 [==============================] - 10s 38ms/step - loss: 0.1131 - accuracy: 0.9555 - val_loss: 0.1953 - val_accuracy: 0.9444\n",
      "\n",
      "Epoch 00036: ReduceLROnPlateau reducing learning rate to 1.000000082740371e-08.\n",
      "Epoch 37/50\n",
      "266/266 [==============================] - 10s 38ms/step - loss: 0.1158 - accuracy: 0.9479 - val_loss: 0.2083 - val_accuracy: 0.9352\n",
      "Epoch 38/50\n",
      "266/266 [==============================] - 10s 39ms/step - loss: 0.1156 - accuracy: 0.9498 - val_loss: 0.2009 - val_accuracy: 0.9352\n",
      "Epoch 39/50\n",
      "266/266 [==============================] - 10s 39ms/step - loss: 0.1096 - accuracy: 0.9604 - val_loss: 0.2037 - val_accuracy: 0.9352\n",
      "Epoch 40/50\n",
      "266/266 [==============================] - 10s 39ms/step - loss: 0.1096 - accuracy: 0.9604 - val_loss: 0.1928 - val_accuracy: 0.9444\n",
      "Epoch 41/50\n",
      "266/266 [==============================] - 10s 38ms/step - loss: 0.1093 - accuracy: 0.9572 - val_loss: 0.1799 - val_accuracy: 0.9491\n",
      "Epoch 42/50\n",
      "266/266 [==============================] - 10s 39ms/step - loss: 0.1263 - accuracy: 0.9524 - val_loss: 0.1959 - val_accuracy: 0.9352\n",
      "Epoch 43/50\n",
      "266/266 [==============================] - 11s 41ms/step - loss: 0.1100 - accuracy: 0.9656 - val_loss: 0.1985 - val_accuracy: 0.9398\n",
      "Epoch 44/50\n",
      "266/266 [==============================] - 11s 40ms/step - loss: 0.1322 - accuracy: 0.9476 - val_loss: 0.1911 - val_accuracy: 0.9398\n",
      "Epoch 45/50\n",
      "266/266 [==============================] - 10s 39ms/step - loss: 0.1077 - accuracy: 0.9592 - val_loss: 0.2048 - val_accuracy: 0.9306\n",
      "Epoch 46/50\n",
      "266/266 [==============================] - 10s 39ms/step - loss: 0.1038 - accuracy: 0.9564 - val_loss: 0.2007 - val_accuracy: 0.9398\n",
      "\n",
      "Epoch 00046: ReduceLROnPlateau reducing learning rate to 1.000000082740371e-09.\n",
      "Epoch 47/50\n",
      "266/266 [==============================] - 11s 41ms/step - loss: 0.1148 - accuracy: 0.9562 - val_loss: 0.2092 - val_accuracy: 0.9306\n",
      "Epoch 48/50\n",
      "266/266 [==============================] - 11s 42ms/step - loss: 0.1231 - accuracy: 0.9526 - val_loss: 0.1978 - val_accuracy: 0.9398\n",
      "Epoch 49/50\n",
      "266/266 [==============================] - 11s 40ms/step - loss: 0.1230 - accuracy: 0.9481 - val_loss: 0.1997 - val_accuracy: 0.9352\n",
      "Epoch 50/50\n",
      "266/266 [==============================] - 11s 41ms/step - loss: 0.1071 - accuracy: 0.9597 - val_loss: 0.1928 - val_accuracy: 0.9259\n"
     ]
    }
   ],
   "source": [
    "earlyStopping = EarlyStopping(monitor='val_loss', patience=4, verbose=1, mode='min')\n",
    "mcp_save = ModelCheckpoint('helmet_detection_model.hdf5', save_best_only=True, monitor='val_loss', mode='min')\n",
    "reduce_lr_loss = ReduceLROnPlateau(monitor='val_loss', factor=0.1, patience=5, verbose=1, epsilon=1e-4, mode='min')\n",
    "# train the network\n",
    "print(\"[INFO] training network...\")\n",
    "H = model.fit_generator(train_generator, \n",
    "                            steps_per_epoch=nb_train_samples // batch_size,\n",
    "                            epochs=50,\n",
    "                            validation_data=validation_generator,\n",
    "                            validation_steps=nb_validation_samples // batch_size,\n",
    "                            callbacks=[reduce_lr_loss,mcp_save],verbose=1)\n",
    "#model.save(\"C:\\\\Users\\\\RGUKT\\\\Desktop\\\\RajHarry\\\\Haar\\\\realtime_object_recognition-master\\\\helmet_detection\\\\4-24_1.h5\")\n",
    "#model.save_weights('first_try.h5') "
   ]
  },
  {
   "cell_type": "code",
   "execution_count": 9,
   "metadata": {},
   "outputs": [],
   "source": [
    "model.save(\"C:\\\\zyx\\\\new_4-24-1(0.10 0.96 0.23 0.93).h5\")"
   ]
  },
  {
   "cell_type": "code",
   "execution_count": 20,
   "metadata": {},
   "outputs": [
    {
     "data": {
      "image/png": "[encoded data removed]",
      "text/plain": [
       "<Figure size 640x480 with 1 Axes>"
      ]
     },
     "metadata": {},
     "output_type": "display_data"
    }
   ],
   "source": [
    "import matplotlib.pyplot as plt \n",
    "import numpy as np\n",
    "plt.style.use(\"classic\")\n",
    "plt.figure()\n",
    "plt.grid()\n",
    "N = 50\n",
    "plt.plot(np.arange(0, N), H.history[\"loss\"], label=\"Training Loss\")\n",
    "plt.plot(np.arange(0, N), H.history[\"val_loss\"], label=\"Validation Loss\")\n",
    "#plt.plot(np.arange(0, N), H.history['accuracy'], label=\"Training Accuracy\")\n",
    "#plt.plot(np.arange(0, N), H.history[\"val_accuracy\"], label=\"Validation Accuracy\")\n",
    "plt.title(\"Comparison of Validation & Training Loss \")\n",
    "plt.xlabel(\"Epoch Number\")\n",
    "plt.ylabel(\"Loss\")\n",
    "plt.legend(loc=\"lower left\")\n",
    "plt.savefig(\"C:\\\\zyx\\\\fish_1.png\")\n"
   ]
  },
  {
   "cell_type": "code",
   "execution_count": null,
   "metadata": {},
   "outputs": [],
   "source": []
  },
  {
   "cell_type": "code",
   "execution_count": null,
   "metadata": {},
   "outputs": [],
   "source": []
  },
  {
   "cell_type": "markdown",
   "metadata": {},
   "source": [
    "# Predictions/Results"
   ]
  },
  {
   "cell_type": "code",
   "execution_count": 2,
   "metadata": {},
   "outputs": [
    {
     "name": "stderr",
     "output_type": "stream",
     "text": [
      "Using TensorFlow backend.\n"
     ]
    },
    {
     "name": "stdout",
     "output_type": "stream",
     "text": [
      "C:\\Users\\RGUKT\\Desktop\\RajHarry\\Haar\\realtime_object_recognition-master\n"
     ]
    }
   ],
   "source": [
    "import os\n",
    "import glob\n",
    "import cv2\n",
    "from keras.preprocessing import image\n",
    "from keras.models import load_model\n",
    "print(os.getcwd())\n",
    "from PIL import Image\n",
    "import numpy as np\n",
    "import warnings\n",
    "warnings.simplefilter('ignore')"
   ]
  },
  {
   "cell_type": "code",
   "execution_count": 54,
   "metadata": {},
   "outputs": [],
   "source": [
    "model = load_model('.mdl_wts.hdf5')#new_4-24-1(0.10 0.96 0.23 0.93).h5"
   ]
  },
  {
   "cell_type": "code",
   "execution_count": 55,
   "metadata": {},
   "outputs": [],
   "source": [
    "l1 = [1,1,0,0,0,1,0,0,0,0,1,0,0,0,0,0,1,1,1,1,1,0,1,1,1,0,0,0,1,1,1,1,1,1,1,1,1,0,1,1,1,1]"
   ]
  },
  {
   "cell_type": "code",
   "execution_count": 56,
   "metadata": {},
   "outputs": [
    {
     "data": {
      "text/plain": [
       "42"
      ]
     },
     "execution_count": 56,
     "metadata": {},
     "output_type": "execute_result"
    }
   ],
   "source": [
    "len(l1)"
   ]
  },
  {
   "cell_type": "code",
   "execution_count": 5,
   "metadata": {},
   "outputs": [
    {
     "data": {
      "text/plain": [
       "[]"
      ]
     },
     "execution_count": 5,
     "metadata": {},
     "output_type": "execute_result"
    }
   ],
   "source": [
    "import glob\n",
    "from PIL import Image\n",
    "pis=[]\n",
    "files = glob.glob(\"Cluster_Dataset\\\\*.png\")\n",
    "#print(files,len(files))\n",
    "#assert(False)\n",
    "for file in files:\n",
    "    im = image.load_img(file)\n",
    "    width,height = im.size\n",
    "    f, e = os.path.splitext(file)\n",
    "    im = im.crop((1, 1, width, height//4))\n",
    "    imResize = im.resize((160,160), Image.ANTIALIAS)\n",
    "    imResize = imResize.convert('RGB')\n",
    "    #imResize.save(f+'_1.png', 'PNG', quality=100)\n",
    "    img = image.img_to_array(imResize)\n",
    "    im_f = np.expand_dims(img,axis=0)\n",
    "    result = model.predict(im_f)\n",
    "    #print(result)\n",
    "    #print(int(result[0][0]))\n",
    "    pis.append(int(result[0][0]))\n",
    "    #print(f.split('\\\\')[-1],result[0])\n",
    "pis"
   ]
  },
  {
   "cell_type": "code",
   "execution_count": 59,
   "metadata": {},
   "outputs": [
    {
     "data": {
      "text/plain": [
       "array([1, 1, 0, 0, 0, 1, 0, 0, 0, 0, 1, 0, 0, 0, 0, 0, 1, 1, 1, 1, 1, 0,\n",
       "       1, 1, 1, 0, 0, 0, 1, 1, 1, 1, 1, 1, 1, 1, 1, 0, 1, 1, 1, 1])"
      ]
     },
     "execution_count": 59,
     "metadata": {},
     "output_type": "execute_result"
    }
   ],
   "source": [
    "np.array(l1).ravel()"
   ]
  },
  {
   "cell_type": "code",
   "execution_count": 60,
   "metadata": {},
   "outputs": [
    {
     "data": {
      "text/plain": [
       "array([1, 1, 0, 1, 1, 1, 0, 0, 0, 0, 1, 0, 0, 0, 1, 0, 1, 0, 1, 0, 1, 0,\n",
       "       0, 0, 0, 0, 0, 0, 1, 1, 1, 1, 1, 1, 1, 0, 1, 0, 1, 1, 1, 0])"
      ]
     },
     "execution_count": 60,
     "metadata": {},
     "output_type": "execute_result"
    }
   ],
   "source": [
    "np.array(pis).ravel()"
   ]
  },
  {
   "cell_type": "code",
   "execution_count": 61,
   "metadata": {},
   "outputs": [
    {
     "name": "stdout",
     "output_type": "stream",
     "text": [
      "my_10.png==> 1==> 1\n",
      "my_11.png==> 1==> 1\n",
      "my_12.png==> 0==> 0\n",
      "my_13.png==> 1==> 0\n",
      "my_14.png==> 1==> 0\n",
      "my_15.png==> 1==> 1\n",
      "my_16.png==> 0==> 0\n",
      "my_17.png==> 0==> 0\n",
      "my_18.png==> 0==> 0\n",
      "my_19.png==> 0==> 0\n",
      "my_2.png==> 1==> 1\n",
      "my_20.png==> 0==> 0\n",
      "my_21.png==> 0==> 0\n",
      "my_22.png==> 0==> 0\n",
      "my_23.png==> 1==> 0\n",
      "my_24.png==> 0==> 0\n",
      "my_25.png==> 1==> 1\n",
      "my_26.png==> 0==> 1\n",
      "my_27.png==> 1==> 1\n",
      "my_28.png==> 0==> 1\n",
      "my_29.png==> 1==> 1\n",
      "my_3.png==> 0==> 0\n",
      "my_30.png==> 0==> 1\n",
      "my_31.png==> 0==> 1\n",
      "my_32.png==> 0==> 1\n",
      "my_33.png==> 0==> 0\n",
      "my_34.png==> 0==> 0\n",
      "my_35.png==> 0==> 0\n",
      "my_36.png==> 1==> 1\n",
      "my_37.png==> 1==> 1\n",
      "my_38.png==> 1==> 1\n",
      "my_39.png==> 1==> 1\n",
      "my_4.png==> 1==> 1\n",
      "my_40.png==> 1==> 1\n",
      "my_41.png==> 1==> 1\n",
      "my_42.png==> 0==> 1\n",
      "my_43.png==> 1==> 1\n",
      "my_5.png==> 0==> 0\n",
      "my_6.png==> 1==> 1\n",
      "my_7.png==> 1==> 1\n",
      "my_8.png==> 1==> 1\n",
      "my_9.png==> 0==> 1\n"
     ]
    }
   ],
   "source": [
    "for i in range(len(files)):\n",
    "    print(files[i].split('\\\\')[1]+ '==> ' + str(pis[i])+'==> '+str(l1[i]))"
   ]
  },
  {
   "cell_type": "code",
   "execution_count": 62,
   "metadata": {},
   "outputs": [
    {
     "name": "stdout",
     "output_type": "stream",
     "text": [
      "[1, 1, 0, 1, 1, 1, 0, 0, 0, 0, 1, 0, 0, 0, 1, 0, 1, 0, 1, 0, 1, 0, 0, 0, 0, 0, 0, 0, 1, 1, 1, 1, 1, 1, 1, 0, 1, 0, 1, 1, 1, 0]\n"
     ]
    }
   ],
   "source": [
    "print(pis)"
   ]
  },
  {
   "cell_type": "code",
   "execution_count": 63,
   "metadata": {},
   "outputs": [
    {
     "name": "stdout",
     "output_type": "stream",
     "text": [
      "[1, 1, 0, 0, 0, 1, 0, 0, 0, 0, 1, 0, 0, 0, 0, 0, 1, 1, 1, 1, 1, 0, 1, 1, 1, 0, 0, 0, 1, 1, 1, 1, 1, 1, 1, 1, 1, 0, 1, 1, 1, 1]\n"
     ]
    }
   ],
   "source": [
    "print(l1)"
   ]
  },
  {
   "cell_type": "code",
   "execution_count": 64,
   "metadata": {},
   "outputs": [],
   "source": [
    "from sklearn.metrics import accuracy_score,precision_score,f1_score,confusion_matrix"
   ]
  },
  {
   "cell_type": "code",
   "execution_count": 65,
   "metadata": {},
   "outputs": [],
   "source": [
    "p = np.array(pis).reshape(-1,1)\n",
    "l = np.array(l1).reshape(-1,1)"
   ]
  },
  {
   "cell_type": "code",
   "execution_count": 72,
   "metadata": {},
   "outputs": [
    {
     "name": "stdout",
     "output_type": "stream",
     "text": [
      "0.953452556\n"
     ]
    }
   ],
   "source": [
    "accuracy_score(l1,pis)"
   ]
  },
  {
   "cell_type": "code",
   "execution_count": null,
   "metadata": {},
   "outputs": [],
   "source": []
  },
  {
   "cell_type": "code",
   "execution_count": 11,
   "metadata": {},
   "outputs": [
    {
     "name": "stdout",
     "output_type": "stream",
     "text": [
      "['Cluster_Dataset\\\\user_0', 'Cluster_Dataset\\\\user_1', 'Cluster_Dataset\\\\user_10', 'Cluster_Dataset\\\\user_11', 'Cluster_Dataset\\\\user_12', 'Cluster_Dataset\\\\user_13', 'Cluster_Dataset\\\\user_14', 'Cluster_Dataset\\\\user_15', 'Cluster_Dataset\\\\user_16', 'Cluster_Dataset\\\\user_17', 'Cluster_Dataset\\\\user_2', 'Cluster_Dataset\\\\user_3', 'Cluster_Dataset\\\\user_4', 'Cluster_Dataset\\\\user_5', 'Cluster_Dataset\\\\user_6', 'Cluster_Dataset\\\\user_7', 'Cluster_Dataset\\\\user_8', 'Cluster_Dataset\\\\user_9']\n",
      "user_0 => [0.8885751 0.11247579 ] => helmet\n",
      "user_1 => [0.35219118 0.359995 ] => no_helmet\n",
      "user_10 => [0.0048504844 0.73173517 0.0072540576 ] => helmet\n",
      "user_11 => [0.969127 0.43975362 0.5826954 ] => helmet\n",
      "user_12 => [0.046493817 0.7159242 0.8116432 ] => helmet\n",
      "user_13 => [0.9998186 0.9936906 ] => helmet\n",
      "user_14 => [0.21087204 0.691348 0.1737808 ] => helmet\n",
      "user_15 => [0.9992084 0.99527586 0.99719584 ] => helmet\n",
      "user_16 => [0.41272527 0.8756398 ] => helmet\n",
      "user_17 => [0.8009035 0.024833657 0.03219691 ] => helmet\n",
      "user_2 => [0.32090878 0.4342425 0.41508624 0.34304696 ] => no_helmet\n",
      "user_3 => [0.7881987 0.25089353 0.036514435 ] => helmet\n",
      "user_4 => [0.03167479 0.005731488 0.004679699 ] => no_helmet\n",
      "user_5 => [0.9126112 ] => helmet\n",
      "user_6 => [0.48839328 ] => no_helmet\n",
      "user_7 => [0.3868761 0.27754495 0.24278204 ] => no_helmet\n",
      "user_8 => [0.053260326 ] => no_helmet\n",
      "user_9 => [0.30609322 ] => no_helmet\n"
     ]
    },
    {
     "data": {
      "text/plain": [
       "[1, 0, 1, 1, 1, 1, 1, 1, 1, 1, 0, 1, 0, 1, 0, 0, 0, 0]"
      ]
     },
     "execution_count": 11,
     "metadata": {},
     "output_type": "execute_result"
    }
   ],
   "source": [
    "import glob\n",
    "from PIL import Image\n",
    "from keras.preprocessing import image\n",
    "import os\n",
    "user_preds = []\n",
    "h1 = 0\n",
    "h2 = 0\n",
    "user_folders = glob.glob(\"Cluster_Dataset\\\\*[!.png]\")\n",
    "print(user_folders)\n",
    "for user in user_folders:\n",
    "    uname = user.split('\\\\')[-1]\n",
    "    print(uname,end=' => ')\n",
    "    cropped_files = glob.glob(user+'\\\\cropped\\\\*')\n",
    "    print('[',end='')\n",
    "    res = 'no_helmet'\n",
    "    for file in cropped_files:\n",
    "        im = image.load_img(file)\n",
    "        width,height = im.size\n",
    "        f, e = os.path.splitext(file)\n",
    "        im = im.crop((1, 1, width, height//4))\n",
    "        imResize = im.resize((82,82), Image.ANTIALIAS)\n",
    "        imResize = imResize.convert('RGB')\n",
    "        #imResize.save(f+'_1.png', 'PNG', quality=100)\n",
    "        img = image.img_to_array(imResize)\n",
    "        im_f = np.expand_dims(img,axis=0)\n",
    "        result = model.predict(im_f)\n",
    "        if(result[0][0]>=0.6):\n",
    "            res='helmet'\n",
    "        print(result[0][0],end=' ')\n",
    "    print(']',end=' => ')\n",
    "    print(res,end='\\n')\n",
    "    if(res == 'helmet'):\n",
    "        print\n",
    "        pis.append(1)\n",
    "    elif(res == 'no_helmet'):\n",
    "        pis.append(0)\n",
    "pis"
   ]
  },
  {
   "cell_type": "code",
   "execution_count": null,
   "metadata": {},
   "outputs": [],
   "source": [
    "l1 = [1,0,0,1,1,1,0,1,1,1,1,1,0,1,0,0,0,1]\n",
    "len(l1)"
   ]
  },
  {
   "cell_type": "markdown",
   "metadata": {},
   "source": [
    "# Remove Images"
   ]
  },
  {
   "cell_type": "code",
   "execution_count": 9,
   "metadata": {},
   "outputs": [],
   "source": [
    "file_names = []\n",
    "files=  glob.glob('Cluster_Dataset/*_1.png')\n",
    "for file in files:\n",
    "    os.remove(file)\n",
    "    #file_names.append(file.split('\\\\')[-1].split('.')[0].replace('h ',''))"
   ]
  }
 ],
 "metadata": {
  "kernelspec": {
   "display_name": "Python 3",
   "language": "python",
   "name": "python3"
  },
  "language_info": {
   "codemirror_mode": {
    "name": "ipython",
    "version": 3
   },
   "file_extension": ".py",
   "mimetype": "text/x-python",
   "name": "python",
   "nbconvert_exporter": "python",
   "pygments_lexer": "ipython3",
   "version": "3.8.5"
  }
 },
 "nbformat": 4,
 "nbformat_minor": 2
}
